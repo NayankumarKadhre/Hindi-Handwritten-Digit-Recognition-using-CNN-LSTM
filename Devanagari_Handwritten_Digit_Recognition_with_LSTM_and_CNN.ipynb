{
 "cells": [
  {
   "cell_type": "code",
   "execution_count": 7,
   "id": "c733077d",
   "metadata": {},
   "outputs": [],
   "source": [
    "import os\n",
    "import cv2\n",
    "import numpy as np\n",
    "from keras.models import Sequential\n",
    "from keras.layers import Dense, Dropout, Flatten, LSTM\n",
    "from keras.layers.convolutional import Conv2D, MaxPooling2D\n",
    "from keras.utils import np_utils\n",
    "\n",
    "\n",
    "# Define train and test paths\n",
    "train_path = 'C:/Users/Nayan/Desktop/Project/DevanagariHandwrittenDigitDataset/Train'\n",
    "test_path = 'C:/Users/Nayan/Desktop/Project/DevanagariHandwrittenDigitDataset/Test'\n",
    "\n",
    "# Define the number of classes\n",
    "num_classes = 10\n",
    "\n",
    "# Define image size and number of channels\n",
    "img_rows, img_cols, img_channels = 32, 32, 1\n",
    "\n",
    "# Define a function to load the data from the specified path\n",
    "import re\n",
    "\n",
    "def load_data(path):\n",
    "    data = []\n",
    "    labels = []\n",
    "    pattern = r\"\\d+\" # regular expression to match digits in folder name\n",
    "    for folder in os.listdir(path):\n",
    "        folder_path = os.path.join(path, folder)\n",
    "        for file in os.listdir(folder_path):\n",
    "            file_path = os.path.join(folder_path, file)\n",
    "            image = cv2.imread(file_path, cv2.IMREAD_GRAYSCALE)\n",
    "            image = cv2.resize(image, (img_rows, img_cols))\n",
    "            data.append(image)\n",
    "            match = re.search(pattern, folder)\n",
    "            labels.append(int(match.group())) # convert matched digits to integer label\n",
    "    data = np.array(data)\n",
    "    data = data.reshape(data.shape[0], img_rows, img_cols, img_channels)\n",
    "    data = data.astype('float32')\n",
    "    data /= 255\n",
    "    labels = np.array(labels)\n",
    "    labels = np_utils.to_categorical(labels, num_classes)\n",
    "    return data, labels\n",
    "\n",
    "# Load the training data\n",
    "X_train, y_train = load_data(train_path)\n",
    "\n",
    "# Load the testing data\n",
    "X_test, y_test = load_data(test_path)\n",
    "\n",
    "# Define the CNN-LSTM model\n",
    "model = Sequential()\n",
    "model.add(Conv2D(32, (3, 3), padding='same', activation='relu', input_shape=(img_rows, img_cols, img_channels)))\n",
    "model.add(MaxPooling2D(pool_size=(2, 2)))\n",
    "model.add(Conv2D(64, (3, 3), padding='same', activation='relu'))\n",
    "model.add(MaxPooling2D(pool_size=(2, 2)))\n",
    "from keras.layers import Reshape\n",
    "from keras.layers import TimeDistributed, LSTM, Dense\n",
    "model.add(Flatten())\n",
    "model.add(Reshape((8, 8, 64)))\n",
    "\n",
    "model.add(TimeDistributed(Flatten()))\n",
    "model.add(TimeDistributed(Dense(128)))\n",
    "model.add(LSTM(128, return_sequences=True))\n",
    "model.add(Dropout(0.2))\n",
    "model.add(LSTM(128))\n",
    "model.add(Dropout(0.2))\n",
    "model.add(Dense(num_classes, activation='softmax'))\n",
    "\n",
    "\n",
    "\n",
    "\n",
    "\n",
    "# Compile the model\n",
    "model.compile(loss='categorical_crossentropy', optimizer='adam', metrics=['accuracy'])\n",
    "\n",
    "\n"
   ]
  },
  {
   "cell_type": "code",
   "execution_count": 8,
   "id": "0adac6d6",
   "metadata": {},
   "outputs": [
    {
     "name": "stdout",
     "output_type": "stream",
     "text": [
      "Epoch 1/20\n",
      "266/266 [==============================] - 23s 68ms/step - loss: 0.5246 - accuracy: 0.8169 - val_loss: 0.1126 - val_accuracy: 0.9657\n",
      "Epoch 2/20\n",
      "266/266 [==============================] - 17s 64ms/step - loss: 0.0864 - accuracy: 0.9733 - val_loss: 0.0663 - val_accuracy: 0.9810\n",
      "Epoch 3/20\n",
      "266/266 [==============================] - 17s 65ms/step - loss: 0.0481 - accuracy: 0.9851 - val_loss: 0.0829 - val_accuracy: 0.9717\n",
      "Epoch 4/20\n",
      "266/266 [==============================] - 17s 65ms/step - loss: 0.0298 - accuracy: 0.9914 - val_loss: 0.0369 - val_accuracy: 0.9880\n",
      "Epoch 5/20\n",
      "266/266 [==============================] - 17s 65ms/step - loss: 0.0225 - accuracy: 0.9931 - val_loss: 0.0390 - val_accuracy: 0.9887\n",
      "Epoch 6/20\n",
      "266/266 [==============================] - 17s 65ms/step - loss: 0.0241 - accuracy: 0.9931 - val_loss: 0.0246 - val_accuracy: 0.9913\n",
      "Epoch 7/20\n",
      "266/266 [==============================] - 18s 66ms/step - loss: 0.0168 - accuracy: 0.9948 - val_loss: 0.0329 - val_accuracy: 0.9903\n",
      "Epoch 8/20\n",
      "266/266 [==============================] - 17s 65ms/step - loss: 0.0114 - accuracy: 0.9957 - val_loss: 0.0318 - val_accuracy: 0.9900\n",
      "Epoch 9/20\n",
      "266/266 [==============================] - 17s 65ms/step - loss: 0.0120 - accuracy: 0.9958 - val_loss: 0.0298 - val_accuracy: 0.9910\n",
      "Epoch 10/20\n",
      "266/266 [==============================] - 17s 65ms/step - loss: 0.0117 - accuracy: 0.9959 - val_loss: 0.0261 - val_accuracy: 0.9923\n",
      "Epoch 11/20\n",
      "266/266 [==============================] - 17s 65ms/step - loss: 0.0110 - accuracy: 0.9966 - val_loss: 0.0326 - val_accuracy: 0.9897\n",
      "Epoch 12/20\n",
      "266/266 [==============================] - 17s 65ms/step - loss: 0.0101 - accuracy: 0.9974 - val_loss: 0.0177 - val_accuracy: 0.9933\n",
      "Epoch 13/20\n",
      "266/266 [==============================] - 17s 65ms/step - loss: 0.0139 - accuracy: 0.9953 - val_loss: 0.0262 - val_accuracy: 0.9923\n",
      "Epoch 14/20\n",
      "266/266 [==============================] - 17s 65ms/step - loss: 0.0084 - accuracy: 0.9976 - val_loss: 0.0180 - val_accuracy: 0.9947\n",
      "Epoch 15/20\n",
      "266/266 [==============================] - 17s 65ms/step - loss: 0.0047 - accuracy: 0.9985 - val_loss: 0.0175 - val_accuracy: 0.9950\n",
      "Epoch 16/20\n",
      "266/266 [==============================] - 17s 65ms/step - loss: 8.0192e-04 - accuracy: 0.9998 - val_loss: 0.0165 - val_accuracy: 0.9960\n",
      "Epoch 17/20\n",
      "266/266 [==============================] - 18s 66ms/step - loss: 0.0017 - accuracy: 0.9994 - val_loss: 0.0173 - val_accuracy: 0.9957\n",
      "Epoch 18/20\n",
      "266/266 [==============================] - 17s 66ms/step - loss: 0.0122 - accuracy: 0.9963 - val_loss: 0.0204 - val_accuracy: 0.9923\n",
      "Epoch 19/20\n",
      "266/266 [==============================] - 17s 65ms/step - loss: 0.0114 - accuracy: 0.9966 - val_loss: 0.0188 - val_accuracy: 0.9940\n",
      "Epoch 20/20\n",
      "266/266 [==============================] - 18s 66ms/step - loss: 0.0040 - accuracy: 0.9989 - val_loss: 0.0133 - val_accuracy: 0.9947\n"
     ]
    },
    {
     "data": {
      "text/plain": [
       "<keras.callbacks.History at 0x2396feab8e0>"
      ]
     },
     "execution_count": 8,
     "metadata": {},
     "output_type": "execute_result"
    }
   ],
   "source": [
    "# Fit the model to the training data\n",
    "model.fit(X_train, y_train, validation_data=(X_test, y_test), epochs=20, batch_size=64)\n",
    "\n"
   ]
  },
  {
   "cell_type": "code",
   "execution_count": 9,
   "id": "95deeb22",
   "metadata": {},
   "outputs": [
    {
     "name": "stdout",
     "output_type": "stream",
     "text": [
      "Accuracy: 99.47%\n"
     ]
    }
   ],
   "source": [
    "\n",
    "# Evaluate the model on the testing data\n",
    "scores = model.evaluate(X_test, y_test, verbose=0)\n",
    "print(\"Accuracy: %.2f%%\" % (scores[1]*100))"
   ]
  },
  {
   "cell_type": "code",
   "execution_count": null,
   "id": "c0f3d5dd",
   "metadata": {},
   "outputs": [],
   "source": []
  }
 ],
 "metadata": {
  "kernelspec": {
   "display_name": "Python 3 (ipykernel)",
   "language": "python",
   "name": "python3"
  },
  "language_info": {
   "codemirror_mode": {
    "name": "ipython",
    "version": 3
   },
   "file_extension": ".py",
   "mimetype": "text/x-python",
   "name": "python",
   "nbconvert_exporter": "python",
   "pygments_lexer": "ipython3",
   "version": "3.9.12"
  }
 },
 "nbformat": 4,
 "nbformat_minor": 5
}
